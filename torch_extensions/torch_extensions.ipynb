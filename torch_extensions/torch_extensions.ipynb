{
 "nbformat": 4,
 "nbformat_minor": 0,
 "metadata": {
  "colab": {
   "name": "torch_extensions.ipynb",
   "provenance": [],
   "collapsed_sections": []
  },
  "kernelspec": {
   "name": "pycharm-108c2f9c",
   "language": "python",
   "display_name": "PyCharm (neeeshka)"
  },
  "pycharm": {
   "stem_cell": {
    "cell_type": "raw",
    "source": [],
    "metadata": {
     "collapsed": false
    }
   }
  }
 },
 "cells": [
  {
   "cell_type": "code",
   "metadata": {
    "id": "3DWZrbovimmI",
    "colab_type": "code",
    "colab": {}
   },
   "source": [
    "import torch\n",
    "from torch.autograd import Function\n",
    "class PlusOne(Function):\n",
    "  @staticmethod\n",
    "  def forward(ctx, i):\n",
    "    return i +1\n",
    "\n",
    "  @staticmethod\n",
    "  def backward(ctx, grad_output):\n",
    "    return grad_output"
   ],
   "execution_count": 0,
   "outputs": []
  },
  {
   "cell_type": "code",
   "metadata": {
    "id": "9yyFL0PXi5hZ",
    "colab_type": "code",
    "outputId": "cb0f6b4f-f756-46ba-870b-173e8ec3336d",
    "colab": {
     "base_uri": "https://localhost:8080/",
     "height": 34
    }
   },
   "source": [
    "from torch.autograd import gradcheck\n",
    "input = torch.randn(20,20,dtype=torch.double,requires_grad=True)\n",
    "print(gradcheck(PlusOne.apply, input, eps=1e-6, atol=1e-4))"
   ],
   "execution_count": 0,
   "outputs": [
    {
     "output_type": "stream",
     "text": [
      "True\n"
     ],
     "name": "stdout"
    }
   ]
  },
  {
   "cell_type": "code",
   "metadata": {
    "id": "J_-ISTbSi7TS",
    "colab_type": "code",
    "colab": {}
   },
   "source": [
    "class LayerPlusOne(torch.nn.Module):\n",
    "    def __init__(self):\n",
    "        super(LayerPlusOne, self).__init__()\n",
    "\n",
    "    def forward(self, input):\n",
    "        return PlusOne.apply(input)"
   ],
   "execution_count": 0,
   "outputs": []
  },
  {
   "cell_type": "code",
   "metadata": {
    "id": "AqlbidN_i8Su",
    "colab_type": "code",
    "outputId": "6a44fa3a-32fc-4059-b13d-b1a9aeddf0ed",
    "colab": {
     "base_uri": "https://localhost:8080/",
     "height": 187
    }
   },
   "source": [
    "a = torch.randn(2, 2, 2, dtype=torch.double)\n",
    "print(a)\n",
    "plus_one = LayerPlusOne()\n",
    "print(plus_one(a))"
   ],
   "execution_count": 0,
   "outputs": [
    {
     "output_type": "stream",
     "text": [
      "tensor([[[ 1.2557, -0.0767],\n",
      "         [ 0.7491, -0.8358]],\n",
      "\n",
      "        [[-0.6017, -0.6456],\n",
      "         [-1.3795,  0.1545]]], dtype=torch.float64)\n",
      "tensor([[[ 2.2557,  0.9233],\n",
      "         [ 1.7491,  0.1642]],\n",
      "\n",
      "        [[ 0.3983,  0.3544],\n",
      "         [-0.3795,  1.1545]]], dtype=torch.float64)\n"
     ],
     "name": "stdout"
    }
   ]
  },
  {
   "cell_type": "code",
   "metadata": {
    "id": "NFuhzw1CjvQc",
    "colab_type": "code",
    "outputId": "3a8c285b-88e9-400f-dfef-be9b16217891",
    "colab": {
     "base_uri": "https://localhost:8080/",
     "height": 853
    }
   },
   "source": [
    "%%bash\n",
    "cd cpp\n",
    "ls -l\n",
    "python setup.py install"
   ],
   "execution_count": 0,
   "outputs": [
    {
     "output_type": "stream",
     "text": [
      "total 12\n",
      "drwxr-xr-x 1 root root 4096 Apr  3 16:24 sample_data\n",
      "-rw-r--r-- 1 root root  265 Apr 14 07:31 setup.py\n",
      "-rw-r--r-- 1 root root  370 Apr 14 07:31 tensor_addition.cpp\n",
      "No CUDA runtime is found, using CUDA_HOME='/usr/local/cuda'\n",
      "running install\n",
      "running bdist_egg\n",
      "running egg_info\n",
      "creating tensor_addition.egg-info\n",
      "writing tensor_addition.egg-info/PKG-INFO\n",
      "writing dependency_links to tensor_addition.egg-info/dependency_links.txt\n",
      "writing top-level names to tensor_addition.egg-info/top_level.txt\n",
      "writing manifest file 'tensor_addition.egg-info/SOURCES.txt'\n",
      "reading manifest file 'tensor_addition.egg-info/SOURCES.txt'\n",
      "writing manifest file 'tensor_addition.egg-info/SOURCES.txt'\n",
      "installing library code to build/bdist.linux-x86_64/egg\n",
      "running install_lib\n",
      "running build_ext\n",
      "building 'tensor_addition' extension\n",
      "creating build\n",
      "creating build/temp.linux-x86_64-3.6\n",
      "x86_64-linux-gnu-gcc -pthread -DNDEBUG -g -fwrapv -O2 -Wall -g -fstack-protector-strong -Wformat -Werror=format-security -Wdate-time -D_FORTIFY_SOURCE=2 -fPIC -I/usr/local/lib/python3.6/dist-packages/torch/include -I/usr/local/lib/python3.6/dist-packages/torch/include/torch/csrc/api/include -I/usr/local/lib/python3.6/dist-packages/torch/include/TH -I/usr/local/lib/python3.6/dist-packages/torch/include/THC -I/usr/include/python3.6m -c tensor_addition.cpp -o build/temp.linux-x86_64-3.6/tensor_addition.o -DTORCH_API_INCLUDE_EXTENSION_H -DTORCH_EXTENSION_NAME=tensor_addition -D_GLIBCXX_USE_CXX11_ABI=0 -std=c++11\n",
      "creating build/lib.linux-x86_64-3.6\n",
      "x86_64-linux-gnu-g++ -pthread -shared -Wl,-O1 -Wl,-Bsymbolic-functions -Wl,-Bsymbolic-functions -Wl,-z,relro -Wl,-Bsymbolic-functions -Wl,-z,relro -g -fstack-protector-strong -Wformat -Werror=format-security -Wdate-time -D_FORTIFY_SOURCE=2 build/temp.linux-x86_64-3.6/tensor_addition.o -o build/lib.linux-x86_64-3.6/tensor_addition.cpython-36m-x86_64-linux-gnu.so\n",
      "creating build/bdist.linux-x86_64\n",
      "creating build/bdist.linux-x86_64/egg\n",
      "copying build/lib.linux-x86_64-3.6/tensor_addition.cpython-36m-x86_64-linux-gnu.so -> build/bdist.linux-x86_64/egg\n",
      "creating stub loader for tensor_addition.cpython-36m-x86_64-linux-gnu.so\n",
      "byte-compiling build/bdist.linux-x86_64/egg/tensor_addition.py to tensor_addition.cpython-36.pyc\n",
      "creating build/bdist.linux-x86_64/egg/EGG-INFO\n",
      "copying tensor_addition.egg-info/PKG-INFO -> build/bdist.linux-x86_64/egg/EGG-INFO\n",
      "copying tensor_addition.egg-info/SOURCES.txt -> build/bdist.linux-x86_64/egg/EGG-INFO\n",
      "copying tensor_addition.egg-info/dependency_links.txt -> build/bdist.linux-x86_64/egg/EGG-INFO\n",
      "copying tensor_addition.egg-info/top_level.txt -> build/bdist.linux-x86_64/egg/EGG-INFO\n",
      "writing build/bdist.linux-x86_64/egg/EGG-INFO/native_libs.txt\n",
      "creating dist\n",
      "creating 'dist/tensor_addition-0.0.0-py3.6-linux-x86_64.egg' and adding 'build/bdist.linux-x86_64/egg' to it\n",
      "removing 'build/bdist.linux-x86_64/egg' (and everything under it)\n",
      "Processing tensor_addition-0.0.0-py3.6-linux-x86_64.egg\n",
      "creating /usr/local/lib/python3.6/dist-packages/tensor_addition-0.0.0-py3.6-linux-x86_64.egg\n",
      "Extracting tensor_addition-0.0.0-py3.6-linux-x86_64.egg to /usr/local/lib/python3.6/dist-packages\n",
      "Adding tensor-addition 0.0.0 to easy-install.pth file\n",
      "\n",
      "Installed /usr/local/lib/python3.6/dist-packages/tensor_addition-0.0.0-py3.6-linux-x86_64.egg\n",
      "Processing dependencies for tensor-addition==0.0.0\n",
      "Finished processing dependencies for tensor-addition==0.0.0\n"
     ],
     "name": "stdout"
    },
    {
     "output_type": "stream",
     "text": [
      "zip_safe flag not set; analyzing archive contents...\n",
      "__pycache__.tensor_addition.cpython-36: module references __file__\n"
     ],
     "name": "stderr"
    }
   ]
  },
  {
   "cell_type": "code",
   "metadata": {
    "id": "MmVAFje2ksYI",
    "colab_type": "code",
    "outputId": "1a91f15b-901a-452a-cc70-02df5b9c48eb",
    "colab": {
     "base_uri": "https://localhost:8080/",
     "height": 136
    }
   },
   "source": [
    "import sys\n",
    "egg_path='/usr/local/lib/python3.6/dist-packages/tensor_addition-0.0.0-py3.6-linux-x86_64.egg'\n",
    "sys.path.append(egg_path)\n",
    "import tensor_addition\n",
    "\n",
    "help(tensor_addition.add_forward)"
   ],
   "execution_count": 0,
   "outputs": [
    {
     "output_type": "stream",
     "text": [
      "Help on built-in function add_forward in module tensor_addition:\n",
      "\n",
      "add_forward(...) method of builtins.PyCapsule instance\n",
      "    add_forward(arg0: at::Tensor, arg1: at::Tensor) -> at::Tensor\n",
      "    \n",
      "    Add forward\n",
      "\n"
     ],
     "name": "stdout"
    }
   ]
  },
  {
   "cell_type": "code",
   "metadata": {
    "id": "4K0yUpbrm62P",
    "colab_type": "code",
    "colab": {}
   },
   "source": [
    "from torch.autograd import Function\n",
    "class AdditionFunction(Function):\n",
    "    @staticmethod\n",
    "    def forward(ctx, input):\n",
    "        outputs = tensor_addition.add_forward(input,torch.ones(input.size()))\n",
    "        return outputs\n",
    "    @staticmethod\n",
    "    def backward(ctx, grad_output):\n",
    "        return tensor_addition.add_backward(grad_output)\n",
    "        "
   ],
   "execution_count": 0,
   "outputs": []
  },
  {
   "cell_type": "code",
   "metadata": {
    "id": "nRD59Aiin3W3",
    "colab_type": "code",
    "outputId": "f7909a37-02e0-44fc-ac16-b806dce65f0c",
    "colab": {
     "base_uri": "https://localhost:8080/",
     "height": 34
    }
   },
   "source": [
    "input = torch.randn(20,20,dtype=torch.double,requires_grad=True)\n",
    "print(gradcheck(AdditionFunction.apply, input, eps=1e-6, atol=1e-4))"
   ],
   "execution_count": 0,
   "outputs": [
    {
     "output_type": "stream",
     "text": [
      "True\n"
     ],
     "name": "stdout"
    }
   ]
  },
  {
   "cell_type": "code",
   "metadata": {
    "id": "5oKO-KtZm7-z",
    "colab_type": "code",
    "outputId": "21abaf5e-335a-4d3b-de63-19d5c5c0e5b5",
    "colab": {
     "base_uri": "https://localhost:8080/",
     "height": 187
    }
   },
   "source": [
    "class AdditionLayer(torch.nn.Module):\n",
    "    def __init__(self):\n",
    "        super(AdditionLayer, self).__init__()\n",
    "    def forward(self, input):\n",
    "        return AdditionFunction.apply(input) \n",
    "a = torch.randn(2, 2, 2, dtype=torch.double)\n",
    "print(a)\n",
    "adl = AdditionLayer()\n",
    "plus_one = adl.forward(a)\n",
    "print(plus_one)    "
   ],
   "execution_count": 0,
   "outputs": [
    {
     "output_type": "stream",
     "text": [
      "tensor([[[ 1.5470,  0.7305],\n",
      "         [ 0.2786, -0.2576]],\n",
      "\n",
      "        [[ 1.2554, -0.3133],\n",
      "         [-0.1350,  0.1036]]], dtype=torch.float64)\n",
      "tensor([[[2.5470, 1.7305],\n",
      "         [1.2786, 0.7424]],\n",
      "\n",
      "        [[2.2554, 0.6867],\n",
      "         [0.8650, 1.1036]]], dtype=torch.float64)\n"
     ],
     "name": "stdout"
    }
   ]
  }
 ]
}