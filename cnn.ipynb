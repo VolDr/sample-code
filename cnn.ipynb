{
 "cells": [
  {
   "cell_type": "code",
   "execution_count": 1,
   "metadata": {},
   "outputs": [],
   "source": [
    "import torch\n",
    "import torchvision\n",
    "import torch.nn as nn\n",
    "import time\n",
    "import matplotlib.pyplot as plt\n",
    "import numpy as np"
   ]
  },
  {
   "cell_type": "code",
   "execution_count": 2,
   "metadata": {},
   "outputs": [
    {
     "data": {
      "text/plain": [
       "<torch._C.Generator at 0x7fc6b5d72dd0>"
      ]
     },
     "execution_count": 2,
     "metadata": {},
     "output_type": "execute_result"
    }
   ],
   "source": [
    "random_seed = 1\n",
    "torch.manual_seed(random_seed)"
   ]
  },
  {
   "cell_type": "code",
   "execution_count": null,
   "metadata": {},
   "outputs": [],
   "source": [
    "\n"
   ]
  },
  {
   "cell_type": "code",
   "execution_count": 3,
   "metadata": {},
   "outputs": [],
   "source": [
    "trainset = torchvision.datasets.MNIST('', train=True, transform=torchvision.transforms.Compose([torchvision.transforms.ToTensor()]))\n",
    "testset = torchvision.datasets.MNIST('', train=False,transform=torchvision.transforms.Compose([torchvision.transforms.ToTensor()]))\n",
    "trainset, valset = torch.utils.data.random_split(trainset, [int(0.9 * len(trainset)), int(0.1 * len(trainset))])\n",
    "train_dataloader = torch.utils.data.DataLoader(trainset, batch_size=32, shuffle=True)\n",
    "val_dataloader = torch.utils.data.DataLoader(valset, batch_size=32, shuffle=False)\n",
    "test_dataloader = torch.utils.data.DataLoader(testset, batch_size=32, shuffle=False)"
   ]
  },
  {
   "cell_type": "code",
   "execution_count": 4,
   "metadata": {},
   "outputs": [],
   "source": [
    "class Net(nn.Module):\n",
    "    def __init__(self):\n",
    "        super().__init__()\n",
    "        self.relu = nn.ReLU()\n",
    "        self.conv1 = nn.Conv2d(1, 32, 5, padding = 2)\n",
    "        self.conv2 = nn.Conv2d(32, 32, 5, padding = 2)\n",
    "        self.drop1 = nn.Dropout2d(p=0.25)\n",
    "        self.max_pool = torch.nn.MaxPool2d(2)\n",
    "        self.conv3 = nn.Conv2d(32, 64, 3, padding = 1)\n",
    "        self.conv4 = nn.Conv2d(64, 64, 3, padding = 1)\n",
    "        self.linear1 = nn.Linear(64*7*7, 512)\n",
    "        self.drop2 = nn.Dropout2d(p=0.5)\n",
    "        self.linear2 = nn.Linear(512, 10)\n",
    "        self.log_softmax = nn.LogSoftmax(dim=1)\n",
    "    def forward(self, x):\n",
    "        x = self.relu(self.conv1(x))\n",
    "        x = self.relu(self.conv2(x))\n",
    "        x = self.max_pool(x)\n",
    "        x = self.drop1(x)\n",
    "\n",
    "        x = self.relu(self.conv3(x))\n",
    "        x = self.relu(self.conv4(x))\n",
    "        x = self.max_pool(x)\n",
    "        x = self.drop1(x)\n",
    "\n",
    "        x = x.reshape(x.size (0), -1)\n",
    "        x = self.relu(self.linear1(x))\n",
    "        x = self.drop2(x)\n",
    "        x = self.log_softmax(self.linear2(x))\n",
    "        return x\n"
   ]
  },
  {
   "cell_type": "code",
   "execution_count": 5,
   "metadata": {},
   "outputs": [],
   "source": [
    "def show_digit(images, lables,show, *option):  \n",
    "    if show == 'digit':\n",
    "        images = [(image,label) for (image,label) in zip(images,lables) if label == option[0]][0:option[1]]\n",
    "        last = option[1]\n",
    "    elif show == 'list':\n",
    "        images = [(image,label) for (image,label) in zip(images,lables)][option[0]:option[1]]\n",
    "        last = len(images)\n",
    "    plt.figure(figsize=(2*len(images),2*len(images)))\n",
    "    for index, (image,label) in enumerate(images):\n",
    "            plt.subplot(1,last,index+1)\n",
    "            plt.imshow(np.reshape(image,(28,28)), cmap=plt.cm.gray_r)\n",
    "            plt.title(label, fontsize=10)\n"
   ]
  },
  {
   "cell_type": "code",
   "execution_count": 6,
   "metadata": {},
   "outputs": [
    {
     "data": {
      "image/png": "[encoded data removed]",
      "text/plain": [
       "<Figure size 720x720 with 5 Axes>"
      ]
     },
     "metadata": {
      "needs_background": "light"
     },
     "output_type": "display_data"
    }
   ],
   "source": [
    "images = [torchvision.transforms.ToPILImage()(trainset[i][0]) for i in range (0,6)]\n",
    "labels = [trainset[i][1] for i in range (0,6)]\n",
    "\n",
    "show_digit(images,labels,'list',1,10)"
   ]
  },
  {
   "cell_type": "code",
   "execution_count": 7,
   "metadata": {},
   "outputs": [
    {
     "data": {
      "text/plain": [
       "device(type='cuda', index=0)"
      ]
     },
     "execution_count": 7,
     "metadata": {},
     "output_type": "execute_result"
    }
   ],
   "source": [
    "device = torch.device(\"cuda:0\" if torch.cuda.is_available() else \"cpu\")\n",
    "network = Net()\n",
    "network.to(device)\n",
    "criterion = nn.CrossEntropyLoss()\n",
    "optimizer = torch.optim.SGD(network.parameters(), lr=0.01,momentum=0.5)\n",
    "device"
   ]
  },
  {
   "cell_type": "code",
   "execution_count": 8,
   "metadata": {},
   "outputs": [],
   "source": [
    "n_epochs = 30\n",
    "train_loss = list()\n",
    "val_loss = list()"
   ]
  },
  {
   "cell_type": "code",
   "execution_count": 9,
   "metadata": {},
   "outputs": [],
   "source": [
    "def train_epoch(network, optimizer, criterion,\n",
    "                train_loader, val_loader, epoch):\n",
    "    total_train_loss = 0\n",
    "    total_val_loss = 0\n",
    "    total_predict = 0\n",
    "    for i, (data, target) in enumerate(train_loader):\n",
    "        loss = train(network, optimizer, criterion, data, target)\n",
    "        total_train_loss += loss\n",
    "        print(f'Эпоха: {epoch} [{i * len(data)}/{len(train_loader.dataset)} ({100.*i * len(data)/len(train_loader.dataset):.0f}%)]', end='\\r')\n",
    "    total_train_loss = total_train_loss / (len(train_loader) + 1)\n",
    "    train_loss.append(total_train_loss)\n",
    "   \n",
    "    for i, (data, target) in enumerate(val_loader):    \n",
    "        predict, loss = validate(network, data, target)\n",
    "        total_val_loss += loss\n",
    "        total_predict += predict\n",
    "    total_val_loss = total_val_loss / (len(val_loader) + 1)\n",
    "    val_loss.append(total_val_loss)\n",
    "    accuracy = float(total_predict.data)/len(val_loader.dataset)\n",
    "    return total_train_loss, total_val_loss, accuracy\n",
    "        \n",
    "def train(network, optimizer, criterion, data, target):\n",
    "    network.train(mode=True)\n",
    "    data = data.to(device)\n",
    "    target = target.to(device)\n",
    "    optimizer.zero_grad()\n",
    "    prediction = network(data)\n",
    "    loss = criterion(prediction, target)\n",
    "    loss.backward()\n",
    "    optimizer.step()\n",
    "    return loss.item()\n",
    "\n",
    "def validate(network, data, target):\n",
    "    network.train(mode=False)\n",
    "    data = data.to(device)\n",
    "    target = target.to(device)\n",
    "    \n",
    "    prediction = network(data)\n",
    "    loss = criterion(prediction, target)\n",
    "    prediction = prediction.data.max(1, keepdim=True)[1]\n",
    "    return prediction.eq(target.data.view_as(prediction)).sum(), loss.item()\n",
    "\n",
    "def test(network, data, target):\n",
    "    data = data.to(device)\n",
    "    target = target.to(device)\n",
    "    prediction = network(data)\n",
    "    prediction = prediction.data.max(1, keepdim=True)[1]\n",
    "    return prediction.eq(target.data.view_as(prediction)).sum()"
   ]
  },
  {
   "cell_type": "code",
   "execution_count": 10,
   "metadata": {},
   "outputs": [
    {
     "name": "stdout",
     "output_type": "stream",
     "text": [
      "Эпоха: 1/30, Ошибка на трен.: 0.7330, Ошибка на пров. 0.1080, Точность на пров.: 0.9662\n",
      "\n",
      "Сохранение модели для эпохи 1 с ошибкой: 0.1080\n",
      "Эпоха: 2/30, Ошибка на трен.: 0.1290, Ошибка на пров. 0.0678, Точность на пров.: 0.9793\n",
      "\n",
      "Сохранение модели для эпохи 2 с ошибкой: 0.0678\n",
      "Эпоха: 3/30, Ошибка на трен.: 0.0912, Ошибка на пров. 0.0531, Точность на пров.: 0.9823\n",
      "\n",
      "Сохранение модели для эпохи 3 с ошибкой: 0.0531\n",
      "Эпоха: 4/30, Ошибка на трен.: 0.0711, Ошибка на пров. 0.0428, Точность на пров.: 0.9862\n",
      "\n",
      "Сохранение модели для эпохи 4 с ошибкой: 0.0428\n",
      "Эпоха: 5/30, Ошибка на трен.: 0.0597, Ошибка на пров. 0.0405, Точность на пров.: 0.9865\n",
      "\n",
      "Сохранение модели для эпохи 5 с ошибкой: 0.0405\n",
      "Эпоха: 6/30, Ошибка на трен.: 0.0534, Ошибка на пров. 0.0424, Точность на пров.: 0.9867\n",
      "\n",
      "Эпоха: 7/30, Ошибка на трен.: 0.0469, Ошибка на пров. 0.0344, Точность на пров.: 0.9887\n",
      "\n",
      "Сохранение модели для эпохи 7 с ошибкой: 0.0344\n",
      "Эпоха: 8/30, Ошибка на трен.: 0.0419, Ошибка на пров. 0.0399, Точность на пров.: 0.9885\n",
      "\n",
      "Эпоха: 9/30, Ошибка на трен.: 0.0392, Ошибка на пров. 0.0347, Точность на пров.: 0.9907\n",
      "\n",
      "Эпоха: 10/30, Ошибка на трен.: 0.0364, Ошибка на пров. 0.0303, Точность на пров.: 0.9915\n",
      "\n",
      "Сохранение модели для эпохи 10 с ошибкой: 0.0303\n",
      "Эпоха: 11/30, Ошибка на трен.: 0.0327, Ошибка на пров. 0.0309, Точность на пров.: 0.9912\n",
      "\n",
      "Эпоха: 12/30, Ошибка на трен.: 0.0304, Ошибка на пров. 0.0270, Точность на пров.: 0.9923\n",
      "\n",
      "Сохранение модели для эпохи 12 с ошибкой: 0.0270\n",
      "Эпоха: 13/30, Ошибка на трен.: 0.0277, Ошибка на пров. 0.0281, Точность на пров.: 0.9920\n",
      "\n",
      "Эпоха: 14/30, Ошибка на трен.: 0.0264, Ошибка на пров. 0.0311, Точность на пров.: 0.9917\n",
      "\n",
      "Эпоха: 15/30, Ошибка на трен.: 0.0248, Ошибка на пров. 0.0281, Точность на пров.: 0.9915\n",
      "\n",
      "Эпоха: 16/30, Ошибка на трен.: 0.0217, Ошибка на пров. 0.0246, Точность на пров.: 0.9927\n",
      "\n",
      "Сохранение модели для эпохи 16 с ошибкой: 0.0246\n",
      "Эпоха: 17/30, Ошибка на трен.: 0.0206, Ошибка на пров. 0.0238, Точность на пров.: 0.9927\n",
      "\n",
      "Сохранение модели для эпохи 17 с ошибкой: 0.0238\n",
      "Эпоха: 18/30, Ошибка на трен.: 0.0202, Ошибка на пров. 0.0274, Точность на пров.: 0.9910\n",
      "\n",
      "Эпоха: 19/30, Ошибка на трен.: 0.0176, Ошибка на пров. 0.0279, Точность на пров.: 0.9913\n",
      "\n",
      "Эпоха: 20/30, Ошибка на трен.: 0.0186, Ошибка на пров. 0.0243, Точность на пров.: 0.9927\n",
      "\n",
      "Эпоха: 21/30, Ошибка на трен.: 0.0180, Ошибка на пров. 0.0262, Точность на пров.: 0.9923\n",
      "\n",
      "Эпоха: 22/30, Ошибка на трен.: 0.0161, Ошибка на пров. 0.0273, Точность на пров.: 0.9930\n",
      "\n",
      "Эпоха: 23/30, Ошибка на трен.: 0.0153, Ошибка на пров. 0.0237, Точность на пров.: 0.9927\n",
      "\n",
      "Сохранение модели для эпохи 23 с ошибкой: 0.0237\n",
      "Эпоха: 24/30, Ошибка на трен.: 0.0141, Ошибка на пров. 0.0244, Точность на пров.: 0.9923\n",
      "\n",
      "Эпоха: 25/30, Ошибка на трен.: 0.0140, Ошибка на пров. 0.0274, Точность на пров.: 0.9925\n",
      "\n",
      "Эпоха: 26/30, Ошибка на трен.: 0.0150, Ошибка на пров. 0.0245, Точность на пров.: 0.9940\n",
      "\n",
      "Эпоха: 27/30, Ошибка на трен.: 0.0131, Ошибка на пров. 0.0317, Точность на пров.: 0.9917\n",
      "\n",
      "Эпоха: 28/30, Ошибка на трен.: 0.0136, Ошибка на пров. 0.0303, Точность на пров.: 0.9908\n",
      "\n",
      "Эпоха: 29/30, Ошибка на трен.: 0.0113, Ошибка на пров. 0.0263, Точность на пров.: 0.9928\n",
      "\n",
      "Эпоха: 30/30, Ошибка на трен.: 0.0135, Ошибка на пров. 0.0256, Точность на пров.: 0.9930\n",
      "\n"
     ]
    }
   ],
   "source": [
    "t1=time.time()\n",
    "running_loss = 0.0\n",
    "best_val_loss = 999\n",
    "for epoch in range(1, n_epochs + 1):\n",
    "    total_train_loss, total_val_loss, accuracy = train_epoch(network, optimizer, criterion, \n",
    "                train_dataloader, val_dataloader, epoch)\n",
    "    print(f'Эпоха: {epoch}/{n_epochs}, Ошибка на трен.: {total_train_loss:.4f}, Ошибка на пров. {total_val_loss:.4f}, Точность на пров.: {accuracy:.4f}\\n')\n",
    "    if total_val_loss < best_val_loss:\n",
    "        best_val_loss = total_val_loss\n",
    "        print(f'Сохранение модели для эпохи {epoch} с ошибкой: {total_val_loss:.4f}')\n",
    "        torch.save(network.state_dict(), 'model.pth')\n",
    "        torch.save(optimizer.state_dict(), 'optimizer.pth')\n",
    "t2=time.time()\n",
    "\n",
    "\n"
   ]
  },
  {
   "cell_type": "code",
   "execution_count": 11,
   "metadata": {},
   "outputs": [
    {
     "data": {
      "image/png": "[encoded data removed]",
      "text/plain": [
       "<Figure size 1440x720 with 1 Axes>"
      ]
     },
     "metadata": {
      "needs_background": "light"
     },
     "output_type": "display_data"
    },
    {
     "data": {
      "text/plain": [
       "<Figure size 432x288 with 0 Axes>"
      ]
     },
     "metadata": {},
     "output_type": "display_data"
    }
   ],
   "source": [
    "fig=plt.figure(figsize=(20, 10))\n",
    "plt.plot(np.arange(1, n_epochs+1), train_loss, label=\"Ошибка на тренировочной выборке\")\n",
    "plt.plot(np.arange(1, n_epochs+1), val_loss, label=\"Ошибка на проверочной выборке\")\n",
    "plt.xlabel('Эпоха')\n",
    "plt.ylabel('Ошибка')\n",
    "plt.legend(loc='upper right')\n",
    "plt.show()\n",
    "plt.savefig('loss.png')"
   ]
  },
  {
   "cell_type": "code",
   "execution_count": 15,
   "metadata": {
    "pycharm": {
     "name": "#%%\n"
    }
   },
   "outputs": [
    {
     "name": "stdout",
     "output_type": "stream",
     "text": [
      "Точность: 9928/10000 [99.28%]\n"
     ]
    }
   ],
   "source": [
    "network.load_state_dict(torch.load(\"model.pth\"))\n",
    "network.train(mode=False)\n",
    "total_predict = 0\n",
    "for i, (data, target) in enumerate(test_dataloader):    \n",
    "    predict = test(network, data, target)\n",
    "    total_predict += predict\n",
    "print(f'Точность: {total_predict.data}/{len(test_dataloader.dataset)} [{100.*float(total_predict.data)/len(test_dataloader.dataset):.2f}%]')\n",
    "\n"
   ]
  }
 ],
 "metadata": {
  "kernelspec": {
   "display_name": "Python 3",
   "language": "python",
   "name": "python3"
  },
  "language_info": {
   "codemirror_mode": {
    "name": "ipython",
    "version": 3
   },
   "file_extension": ".py",
   "mimetype": "text/x-python",
   "name": "python",
   "nbconvert_exporter": "python",
   "pygments_lexer": "ipython3",
   "version": "3.6.8"
  },
  "pycharm": {
   "stem_cell": {
    "cell_type": "raw",
    "source": [],
    "metadata": {
     "collapsed": false
    }
   }
  }
 },
 "nbformat": 4,
 "nbformat_minor": 2
}